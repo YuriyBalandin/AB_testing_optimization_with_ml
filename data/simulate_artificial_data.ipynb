{
 "cells": [
  {
   "cell_type": "markdown",
   "id": "4fdbb85f-f839-40fb-9863-cf11466804ee",
   "metadata": {},
   "source": [
    "## Генерация искусственных данных"
   ]
  },
  {
   "cell_type": "code",
   "execution_count": 1,
   "id": "1d182677-becd-427e-a014-aab9c1dba264",
   "metadata": {},
   "outputs": [],
   "source": [
    "import pandas as pd\n",
    "import numpy as np"
   ]
  },
  {
   "cell_type": "markdown",
   "id": "33ffe61e-ab72-4960-a5e4-9ddff02e1951",
   "metadata": {},
   "source": [
    "### Генерация простого нормального распределения\n",
    "Такие данные можно использовать только с обычным бутстрапом\n"
   ]
  },
  {
   "cell_type": "code",
   "execution_count": 2,
   "id": "79c1f321-7b02-44ac-b066-e542dd01c40f",
   "metadata": {},
   "outputs": [],
   "source": [
    "def generate_simple_ab_data(num_samples=1000, control_mean=100, control_std=10, variant_mean=110, variant_std=10):\n",
    "    \"\"\"\n",
    "    Generates artificial A/B test data using normal distributions.\n",
    "\n",
    "    Parameters:\n",
    "    - num_samples (int): The total number of samples to generate.\n",
    "    - control_mean (float): Mean of the control group's normal distribution.\n",
    "    - control_std (float): Standard deviation of the control group's normal distribution.\n",
    "    - variant_mean (float): Mean of the variant group's normal distribution.\n",
    "    - variant_std (float): Standard deviation of the variant group's normal distribution.\n",
    "\n",
    "    Returns:\n",
    "    - df (pd.DataFrame): A DataFrame with columns [\"ab_variant\", \"user_id\", \"metric_value\"].\n",
    "    \"\"\"\n",
    "\n",
    "    # Split samples into two groups\n",
    "    control_samples = int(num_samples / 2)\n",
    "    variant_samples = num_samples - control_samples\n",
    "\n",
    "    # Generate data for the control group\n",
    "    control_data = np.random.normal(control_mean, control_std, control_samples)\n",
    "\n",
    "    # Generate data for the variant group\n",
    "    variant_data = np.random.normal(variant_mean, variant_std, variant_samples)\n",
    "\n",
    "    # Combine the data\n",
    "    data = np.concatenate([control_data, variant_data])\n",
    "\n",
    "    # Create the ab_variant column\n",
    "    ab_variant = ['control'] * control_samples + ['test'] * variant_samples\n",
    "\n",
    "    # Create user ids\n",
    "    user_ids = list(range(1, num_samples + 1))\n",
    "\n",
    "    # Combine into a DataFrame\n",
    "    df = pd.DataFrame({\n",
    "        'ab_variant': ab_variant,\n",
    "        'user_id': user_ids,\n",
    "        'metric_value': data\n",
    "    })\n",
    "    return df\n",
    "\n"
   ]
  },
  {
   "cell_type": "code",
   "execution_count": 3,
   "id": "03b8d905-2497-455c-a7e2-70d9412ee933",
   "metadata": {},
   "outputs": [],
   "source": [
    "# Example usage\n",
    "df = generate_simple_ab_data(num_samples=10000, control_mean=100, variant_mean=103, control_std=50, variant_std=50)"
   ]
  },
  {
   "cell_type": "code",
   "execution_count": 4,
   "id": "89c8cd84-4b82-4ed0-aad8-f055466b9f41",
   "metadata": {},
   "outputs": [
    {
     "data": {
      "text/html": [
       "<div>\n",
       "<style scoped>\n",
       "    .dataframe tbody tr th:only-of-type {\n",
       "        vertical-align: middle;\n",
       "    }\n",
       "\n",
       "    .dataframe tbody tr th {\n",
       "        vertical-align: top;\n",
       "    }\n",
       "\n",
       "    .dataframe thead th {\n",
       "        text-align: right;\n",
       "    }\n",
       "</style>\n",
       "<table border=\"1\" class=\"dataframe\">\n",
       "  <thead>\n",
       "    <tr style=\"text-align: right;\">\n",
       "      <th></th>\n",
       "      <th>ab_variant</th>\n",
       "      <th>user_id</th>\n",
       "      <th>metric_value</th>\n",
       "    </tr>\n",
       "  </thead>\n",
       "  <tbody>\n",
       "    <tr>\n",
       "      <th>0</th>\n",
       "      <td>control</td>\n",
       "      <td>1</td>\n",
       "      <td>73.494663</td>\n",
       "    </tr>\n",
       "    <tr>\n",
       "      <th>1</th>\n",
       "      <td>control</td>\n",
       "      <td>2</td>\n",
       "      <td>143.216464</td>\n",
       "    </tr>\n",
       "    <tr>\n",
       "      <th>2</th>\n",
       "      <td>control</td>\n",
       "      <td>3</td>\n",
       "      <td>41.753544</td>\n",
       "    </tr>\n",
       "    <tr>\n",
       "      <th>3</th>\n",
       "      <td>control</td>\n",
       "      <td>4</td>\n",
       "      <td>75.653054</td>\n",
       "    </tr>\n",
       "    <tr>\n",
       "      <th>4</th>\n",
       "      <td>control</td>\n",
       "      <td>5</td>\n",
       "      <td>94.726049</td>\n",
       "    </tr>\n",
       "  </tbody>\n",
       "</table>\n",
       "</div>"
      ],
      "text/plain": [
       "  ab_variant  user_id  metric_value\n",
       "0    control        1     73.494663\n",
       "1    control        2    143.216464\n",
       "2    control        3     41.753544\n",
       "3    control        4     75.653054\n",
       "4    control        5     94.726049"
      ]
     },
     "execution_count": 4,
     "metadata": {},
     "output_type": "execute_result"
    }
   ],
   "source": [
    "df.head()"
   ]
  },
  {
   "cell_type": "code",
   "execution_count": 5,
   "id": "38a62ce0-7a6f-4fcb-8da7-7044a971c004",
   "metadata": {},
   "outputs": [
    {
     "data": {
      "text/plain": [
       "control    5000\n",
       "test       5000\n",
       "Name: ab_variant, dtype: int64"
      ]
     },
     "execution_count": 5,
     "metadata": {},
     "output_type": "execute_result"
    }
   ],
   "source": [
    "df.ab_variant.value_counts()"
   ]
  },
  {
   "cell_type": "code",
   "execution_count": 6,
   "id": "49a12e0b-0230-4280-8f91-be0da3f8cd04",
   "metadata": {},
   "outputs": [],
   "source": [
    "df.to_csv('sample_data.csv', index = False)"
   ]
  },
  {
   "cell_type": "markdown",
   "id": "57b06626-91de-46fd-94d4-81ec2a5006ec",
   "metadata": {},
   "source": [
    "### Генерация данных для CUPED\n",
    "На этих данных можно сравнить обычный бутсрап и cuped."
   ]
  },
  {
   "cell_type": "code",
   "execution_count": 7,
   "id": "edce6523-3e89-4078-b213-19c1fe888fee",
   "metadata": {},
   "outputs": [],
   "source": [
    "def generate_ab_data_for_cuped(num_users=10000, control_mean=100, control_std = 50, effect_size=3):\n",
    "    # Setting random seed for reproducibility\n",
    "    np.random.seed(42)\n",
    "\n",
    "    # Generate user_ids\n",
    "    user_ids = np.arange(num_users)\n",
    "\n",
    "    # Generate pre-experiment data with some inherent structure and noise\n",
    "    pre_experiment_data = np.random.normal(control_mean, control_std, num_users)\n",
    "\n",
    "    # Create DataFrame for pre-experiment data\n",
    "    df_pre_experiment = pd.DataFrame({\n",
    "        'user_id': user_ids,\n",
    "        'metric_value': pre_experiment_data\n",
    "    })\n",
    "\n",
    "    # Generate experiment data\n",
    "    #noise = np.random.normal(0, control_std / 5, num_users)\n",
    "\n",
    "    noise_test = np.random.normal(0, control_std / 5, num_users)\n",
    "    noise_control = np.random.normal(0, control_std / 5, num_users)\n",
    "\n",
    "\n",
    "    # For control group, we add only noise to pre-experiment data\n",
    "    control_metric_values = pre_experiment_data + noise_control\n",
    "\n",
    "    # For treatment group, we add a small effect (e.g., 5 units) + noise\n",
    "    treatment_metric_values = pre_experiment_data + effect_size + noise_test\n",
    "\n",
    "    # Combine control and treatment data\n",
    "    ab_variant = ['control'] * num_users + ['test'] * num_users\n",
    "    combined_metric_values = np.concatenate([control_metric_values, treatment_metric_values])\n",
    "\n",
    "    # Create DataFrame for experiment data\n",
    "    df_experiment = pd.DataFrame({\n",
    "        'ab_variant': ab_variant,\n",
    "        'user_id': list(user_ids) * 2,\n",
    "        'metric_value': combined_metric_values\n",
    "    })\n",
    "\n",
    "    return df_experiment, df_pre_experiment\n"
   ]
  },
  {
   "cell_type": "code",
   "execution_count": 8,
   "id": "f317edf5-3d90-4766-a400-73242d3ce187",
   "metadata": {},
   "outputs": [],
   "source": [
    "df_experiment, df_pre_experiment = generate_ab_data_for_cuped(control_mean=100, \n",
    "                                                              control_std = 50, \n",
    "                                                              effect_size=3)"
   ]
  },
  {
   "cell_type": "code",
   "execution_count": 9,
   "id": "b92876c0-7452-443a-955f-68eab08f0c08",
   "metadata": {},
   "outputs": [
    {
     "data": {
      "text/html": [
       "<div>\n",
       "<style scoped>\n",
       "    .dataframe tbody tr th:only-of-type {\n",
       "        vertical-align: middle;\n",
       "    }\n",
       "\n",
       "    .dataframe tbody tr th {\n",
       "        vertical-align: top;\n",
       "    }\n",
       "\n",
       "    .dataframe thead th {\n",
       "        text-align: right;\n",
       "    }\n",
       "</style>\n",
       "<table border=\"1\" class=\"dataframe\">\n",
       "  <thead>\n",
       "    <tr style=\"text-align: right;\">\n",
       "      <th></th>\n",
       "      <th>ab_variant</th>\n",
       "      <th>user_id</th>\n",
       "      <th>metric_value</th>\n",
       "    </tr>\n",
       "  </thead>\n",
       "  <tbody>\n",
       "    <tr>\n",
       "      <th>0</th>\n",
       "      <td>control</td>\n",
       "      <td>0</td>\n",
       "      <td>128.318570</td>\n",
       "    </tr>\n",
       "    <tr>\n",
       "      <th>1</th>\n",
       "      <td>control</td>\n",
       "      <td>1</td>\n",
       "      <td>95.920021</td>\n",
       "    </tr>\n",
       "    <tr>\n",
       "      <th>2</th>\n",
       "      <td>control</td>\n",
       "      <td>2</td>\n",
       "      <td>123.019228</td>\n",
       "    </tr>\n",
       "    <tr>\n",
       "      <th>3</th>\n",
       "      <td>control</td>\n",
       "      <td>3</td>\n",
       "      <td>181.947335</td>\n",
       "    </tr>\n",
       "    <tr>\n",
       "      <th>4</th>\n",
       "      <td>control</td>\n",
       "      <td>4</td>\n",
       "      <td>73.391505</td>\n",
       "    </tr>\n",
       "  </tbody>\n",
       "</table>\n",
       "</div>"
      ],
      "text/plain": [
       "  ab_variant  user_id  metric_value\n",
       "0    control        0    128.318570\n",
       "1    control        1     95.920021\n",
       "2    control        2    123.019228\n",
       "3    control        3    181.947335\n",
       "4    control        4     73.391505"
      ]
     },
     "execution_count": 9,
     "metadata": {},
     "output_type": "execute_result"
    }
   ],
   "source": [
    "df_experiment.head()"
   ]
  },
  {
   "cell_type": "code",
   "execution_count": 10,
   "id": "c528cba7-6a52-4daa-bc59-8c3c36064134",
   "metadata": {},
   "outputs": [
    {
     "data": {
      "text/html": [
       "<div>\n",
       "<style scoped>\n",
       "    .dataframe tbody tr th:only-of-type {\n",
       "        vertical-align: middle;\n",
       "    }\n",
       "\n",
       "    .dataframe tbody tr th {\n",
       "        vertical-align: top;\n",
       "    }\n",
       "\n",
       "    .dataframe thead th {\n",
       "        text-align: right;\n",
       "    }\n",
       "</style>\n",
       "<table border=\"1\" class=\"dataframe\">\n",
       "  <thead>\n",
       "    <tr style=\"text-align: right;\">\n",
       "      <th></th>\n",
       "      <th>user_id</th>\n",
       "      <th>metric_value</th>\n",
       "    </tr>\n",
       "  </thead>\n",
       "  <tbody>\n",
       "    <tr>\n",
       "      <th>0</th>\n",
       "      <td>0</td>\n",
       "      <td>124.835708</td>\n",
       "    </tr>\n",
       "    <tr>\n",
       "      <th>1</th>\n",
       "      <td>1</td>\n",
       "      <td>93.086785</td>\n",
       "    </tr>\n",
       "    <tr>\n",
       "      <th>2</th>\n",
       "      <td>2</td>\n",
       "      <td>132.384427</td>\n",
       "    </tr>\n",
       "    <tr>\n",
       "      <th>3</th>\n",
       "      <td>3</td>\n",
       "      <td>176.151493</td>\n",
       "    </tr>\n",
       "    <tr>\n",
       "      <th>4</th>\n",
       "      <td>4</td>\n",
       "      <td>88.292331</td>\n",
       "    </tr>\n",
       "  </tbody>\n",
       "</table>\n",
       "</div>"
      ],
      "text/plain": [
       "   user_id  metric_value\n",
       "0        0    124.835708\n",
       "1        1     93.086785\n",
       "2        2    132.384427\n",
       "3        3    176.151493\n",
       "4        4     88.292331"
      ]
     },
     "execution_count": 10,
     "metadata": {},
     "output_type": "execute_result"
    }
   ],
   "source": [
    "df_pre_experiment.head()"
   ]
  },
  {
   "cell_type": "code",
   "execution_count": 11,
   "id": "811e01f0-2f11-4aee-b8a3-eb5622da1a13",
   "metadata": {},
   "outputs": [
    {
     "data": {
      "text/plain": [
       "(51.265110946493316, 50.173119025170166)"
      ]
     },
     "execution_count": 11,
     "metadata": {},
     "output_type": "execute_result"
    }
   ],
   "source": [
    "df_experiment.metric_value.std(), df_pre_experiment.metric_value.std()"
   ]
  },
  {
   "cell_type": "code",
   "execution_count": 12,
   "id": "b44f1d0f-eb36-4ede-867c-a57d57ac0c7e",
   "metadata": {},
   "outputs": [
    {
     "data": {
      "text/plain": [
       "ab_variant\n",
       "control     99.768573\n",
       "test       103.028541\n",
       "Name: metric_value, dtype: float64"
      ]
     },
     "execution_count": 12,
     "metadata": {},
     "output_type": "execute_result"
    }
   ],
   "source": [
    "df_experiment.groupby('ab_variant').metric_value.mean()"
   ]
  },
  {
   "cell_type": "code",
   "execution_count": 13,
   "id": "3a58b93c-03d1-4ee6-b0f5-54e23ab1364e",
   "metadata": {},
   "outputs": [],
   "source": [
    "df_experiment.to_csv('sample_data.csv', index = False)\n",
    "df_pre_experiment.to_csv('pre_exp_sample_data.csv', index = False)"
   ]
  },
  {
   "cell_type": "markdown",
   "id": "c3aeb077-54f7-47cf-bcc7-aa0a3c444431",
   "metadata": {},
   "source": [
    "### Генерация данных для всех методов\n",
    "Генерирует данные, подходящие для всех методов. \n",
    "Моделирует линейную зависимость. "
   ]
  },
  {
   "cell_type": "code",
   "execution_count": 14,
   "id": "52f29c5e-0648-4c43-bc03-3ecc027a2881",
   "metadata": {},
   "outputs": [],
   "source": [
    "def generate_ab_data_for_cupac(num_users=10000, control_mean=100, control_std = 50, effect_size=3):\n",
    "    # Setting random seed for reproducibility\n",
    "    np.random.seed(42)\n",
    "\n",
    "    # Generate user_ids\n",
    "    user_ids = np.arange(num_users)\n",
    "\n",
    "    # Generate pre-experiment data with some inherent structure and noise\n",
    "    pre_experiment_data = np.random.normal(control_mean, control_std, num_users)\n",
    "\n",
    "    coef_a = np.random.randint(10)\n",
    "    coef_b = np.random.randint(10)\n",
    "    noise = np.random.normal(0, control_std , num_users)\n",
    "\n",
    "    # Create DataFrame for pre-experiment data\n",
    "    df_pre_experiment = pd.DataFrame({\n",
    "        'feature_1': pre_experiment_data,\n",
    "        'user_id': user_ids,\n",
    "        'metric_value': coef_a * pre_experiment_data + coef_b + noise\n",
    "    })\n",
    "\n",
    "    # Generate experiment data\n",
    "    noise_test = np.random.normal(0, control_std , num_users)\n",
    "    noise_control = np.random.normal(0, control_std , num_users)\n",
    "\n",
    "    # For control group, we add only noise to pre-experiment data\n",
    "    control_metric_values = coef_a * (pre_experiment_data + noise_control) + coef_b \n",
    "\n",
    "    # For treatment group, we add a small effect (e.g., 5 units) + noise\n",
    "    treatment_metric_values = coef_a * (pre_experiment_data + noise_test) + coef_b + effect_size \n",
    "\n",
    "    # Combine control and treatment data\n",
    "    ab_variant = ['control'] * num_users + ['test'] * num_users\n",
    "    combined_metric_values = np.concatenate([control_metric_values, treatment_metric_values])\n",
    "    combined_features_values = np.concatenate([pre_experiment_data + noise_control, pre_experiment_data + noise_test])\n",
    "\n",
    "\n",
    "    # Create DataFrame for experiment data\n",
    "    df_experiment = pd.DataFrame({\n",
    "        'feature_1': combined_features_values,\n",
    "        'ab_variant': ab_variant,\n",
    "        'user_id': list(user_ids) * 2,\n",
    "        'metric_value': combined_metric_values\n",
    "        \n",
    "    })\n",
    "\n",
    "    return df_experiment, df_pre_experiment\n"
   ]
  },
  {
   "cell_type": "code",
   "execution_count": 15,
   "id": "123541a3-f57d-47b7-86d0-506902e8b5af",
   "metadata": {},
   "outputs": [],
   "source": [
    "df_experiment, df_pre_experiment = generate_ab_data_for_cupac(control_mean=100, \n",
    "                                                              control_std = 10, \n",
    "                                                              effect_size=3)"
   ]
  },
  {
   "cell_type": "code",
   "execution_count": 16,
   "id": "6ae16c2d-59d9-43f5-80ad-df9a74ce13f2",
   "metadata": {},
   "outputs": [
    {
     "data": {
      "text/html": [
       "<div>\n",
       "<style scoped>\n",
       "    .dataframe tbody tr th:only-of-type {\n",
       "        vertical-align: middle;\n",
       "    }\n",
       "\n",
       "    .dataframe tbody tr th {\n",
       "        vertical-align: top;\n",
       "    }\n",
       "\n",
       "    .dataframe thead th {\n",
       "        text-align: right;\n",
       "    }\n",
       "</style>\n",
       "<table border=\"1\" class=\"dataframe\">\n",
       "  <thead>\n",
       "    <tr style=\"text-align: right;\">\n",
       "      <th></th>\n",
       "      <th>feature_1</th>\n",
       "      <th>ab_variant</th>\n",
       "      <th>user_id</th>\n",
       "      <th>metric_value</th>\n",
       "    </tr>\n",
       "  </thead>\n",
       "  <tbody>\n",
       "    <tr>\n",
       "      <th>0</th>\n",
       "      <td>104.508999</td>\n",
       "      <td>control</td>\n",
       "      <td>0</td>\n",
       "      <td>947.580992</td>\n",
       "    </tr>\n",
       "    <tr>\n",
       "      <th>1</th>\n",
       "      <td>104.972314</td>\n",
       "      <td>control</td>\n",
       "      <td>1</td>\n",
       "      <td>951.750822</td>\n",
       "    </tr>\n",
       "    <tr>\n",
       "      <th>2</th>\n",
       "      <td>107.466149</td>\n",
       "      <td>control</td>\n",
       "      <td>2</td>\n",
       "      <td>974.195339</td>\n",
       "    </tr>\n",
       "    <tr>\n",
       "      <th>3</th>\n",
       "      <td>107.203766</td>\n",
       "      <td>control</td>\n",
       "      <td>3</td>\n",
       "      <td>971.833897</td>\n",
       "    </tr>\n",
       "    <tr>\n",
       "      <th>4</th>\n",
       "      <td>93.071886</td>\n",
       "      <td>control</td>\n",
       "      <td>4</td>\n",
       "      <td>844.646976</td>\n",
       "    </tr>\n",
       "  </tbody>\n",
       "</table>\n",
       "</div>"
      ],
      "text/plain": [
       "    feature_1 ab_variant  user_id  metric_value\n",
       "0  104.508999    control        0    947.580992\n",
       "1  104.972314    control        1    951.750822\n",
       "2  107.466149    control        2    974.195339\n",
       "3  107.203766    control        3    971.833897\n",
       "4   93.071886    control        4    844.646976"
      ]
     },
     "execution_count": 16,
     "metadata": {},
     "output_type": "execute_result"
    }
   ],
   "source": [
    "df_experiment.head()"
   ]
  },
  {
   "cell_type": "code",
   "execution_count": 17,
   "id": "6152b757-7d8b-4701-904b-ff802f7397f1",
   "metadata": {},
   "outputs": [
    {
     "data": {
      "text/html": [
       "<div>\n",
       "<style scoped>\n",
       "    .dataframe tbody tr th:only-of-type {\n",
       "        vertical-align: middle;\n",
       "    }\n",
       "\n",
       "    .dataframe tbody tr th {\n",
       "        vertical-align: top;\n",
       "    }\n",
       "\n",
       "    .dataframe thead th {\n",
       "        text-align: right;\n",
       "    }\n",
       "</style>\n",
       "<table border=\"1\" class=\"dataframe\">\n",
       "  <thead>\n",
       "    <tr style=\"text-align: right;\">\n",
       "      <th></th>\n",
       "      <th>feature_1</th>\n",
       "      <th>user_id</th>\n",
       "      <th>metric_value</th>\n",
       "    </tr>\n",
       "  </thead>\n",
       "  <tbody>\n",
       "    <tr>\n",
       "      <th>0</th>\n",
       "      <td>104.967142</td>\n",
       "      <td>0</td>\n",
       "      <td>953.441966</td>\n",
       "    </tr>\n",
       "    <tr>\n",
       "      <th>1</th>\n",
       "      <td>98.617357</td>\n",
       "      <td>1</td>\n",
       "      <td>886.048564</td>\n",
       "    </tr>\n",
       "    <tr>\n",
       "      <th>2</th>\n",
       "      <td>106.476885</td>\n",
       "      <td>2</td>\n",
       "      <td>963.810879</td>\n",
       "    </tr>\n",
       "    <tr>\n",
       "      <th>3</th>\n",
       "      <td>115.230299</td>\n",
       "      <td>3</td>\n",
       "      <td>1040.000719</td>\n",
       "    </tr>\n",
       "    <tr>\n",
       "      <th>4</th>\n",
       "      <td>97.658466</td>\n",
       "      <td>4</td>\n",
       "      <td>877.685605</td>\n",
       "    </tr>\n",
       "  </tbody>\n",
       "</table>\n",
       "</div>"
      ],
      "text/plain": [
       "    feature_1  user_id  metric_value\n",
       "0  104.967142        0    953.441966\n",
       "1   98.617357        1    886.048564\n",
       "2  106.476885        2    963.810879\n",
       "3  115.230299        3   1040.000719\n",
       "4   97.658466        4    877.685605"
      ]
     },
     "execution_count": 17,
     "metadata": {},
     "output_type": "execute_result"
    }
   ],
   "source": [
    "df_pre_experiment.head()"
   ]
  },
  {
   "cell_type": "code",
   "execution_count": 18,
   "id": "8d63b629-6713-4729-b1dd-61386d0cc6b0",
   "metadata": {},
   "outputs": [
    {
     "data": {
      "text/plain": [
       "(127.1541285121924, 90.68630265079938)"
      ]
     },
     "execution_count": 18,
     "metadata": {},
     "output_type": "execute_result"
    }
   ],
   "source": [
    "df_experiment.metric_value.std(), df_pre_experiment.metric_value.std()"
   ]
  },
  {
   "cell_type": "code",
   "execution_count": 19,
   "id": "9e59a229-00dd-4b8e-a05f-f230c9aa28b7",
   "metadata": {},
   "outputs": [
    {
     "data": {
      "text/plain": [
       "ab_variant\n",
       "control    906.642692\n",
       "test       910.224257\n",
       "Name: metric_value, dtype: float64"
      ]
     },
     "execution_count": 19,
     "metadata": {},
     "output_type": "execute_result"
    }
   ],
   "source": [
    "df_experiment.groupby('ab_variant').metric_value.mean()"
   ]
  },
  {
   "cell_type": "code",
   "execution_count": 20,
   "id": "83e715d7-5468-4e41-a302-bf3e42187586",
   "metadata": {},
   "outputs": [],
   "source": [
    "df_experiment.to_csv('sample_data.csv', index = False)\n",
    "df_pre_experiment.to_csv('pre_exp_sample_data.csv', index = False)"
   ]
  }
 ],
 "metadata": {
  "kernelspec": {
   "display_name": "Python 3 (ipykernel)",
   "language": "python",
   "name": "python3"
  },
  "language_info": {
   "codemirror_mode": {
    "name": "ipython",
    "version": 3
   },
   "file_extension": ".py",
   "mimetype": "text/x-python",
   "name": "python",
   "nbconvert_exporter": "python",
   "pygments_lexer": "ipython3",
   "version": "3.9.18"
  }
 },
 "nbformat": 4,
 "nbformat_minor": 5
}
